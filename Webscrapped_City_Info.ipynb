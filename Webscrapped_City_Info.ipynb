{
 "cells": [
  {
   "cell_type": "markdown",
   "metadata": {
    "id": "WIrP73cmuojf"
   },
   "source": [
    "# Webscrapped City information to GCP SQL instance"
   ]
  },
  {
   "cell_type": "markdown",
   "metadata": {
    "id": "Hq1bTTMCuojj"
   },
   "source": [
    "---\n",
    "## Import libraries 💾\n",
    "If you haven't already installed sqlalchemy and pymysql, you will need to. Uncomment the code below, install, and then recomment the code - you only need to install it once."
   ]
  },
  {
   "cell_type": "code",
   "execution_count": 69,
   "metadata": {
    "colab": {
     "base_uri": "https://localhost:8080/"
    },
    "id": "Uw40bYYYn7_U",
    "outputId": "98c3849c-5962-47dc-cc29-87a71639d917"
   },
   "outputs": [],
   "source": [
    "# install if needed\n",
    "# !pip install sqlalchemy\n",
    "# !pip install pymysql"
   ]
  },
  {
   "cell_type": "markdown",
   "metadata": {
    "id": "Hq1bTTMCuojj"
   },
   "source": [
    "## Initialize connection string"
   ]
  },
  {
   "cell_type": "code",
   "execution_count": 12,
   "metadata": {},
   "outputs": [],
   "source": [
    "from dotenv import load_dotenv\n",
    "import os\n",
    "\n",
    "load_dotenv(\"variables.env\")\n",
    "\n",
    "schema = os.getenv(\"schema\")\n",
    "host = os.getenv(\"host\")\n",
    "user = os.getenv(\"user\")\n",
    "password = os.getenv(\"password\")\n",
    "port = os.getenv(\"port\")\n",
    "\n",
    "connection_string = f'mysql+pymysql://{user}:{password}@{host}:{port}/{schema}'"
   ]
  },
  {
   "cell_type": "markdown",
   "metadata": {
    "id": "Hq1bTTMCuojj"
   },
   "source": [
    "## Test your connection"
   ]
  },
  {
   "cell_type": "code",
   "execution_count": 36,
   "metadata": {},
   "outputs": [
    {
     "name": "stdout",
     "output_type": "stream",
     "text": [
      ":white_check_mark: Connection successful: 1\n"
     ]
    }
   ],
   "source": [
    "from sqlalchemy import create_engine, text\n",
    "\n",
    "# Create SQLAlchemy engine\n",
    "engine = create_engine(connection_string)\n",
    "\n",
    "# Test the connection\n",
    "try:\n",
    "    with engine.connect() as connection:\n",
    "        result = connection.execute(text(\"SELECT 1\"))\n",
    "        print(\":white_check_mark: Connection successful:\", result.scalar())\n",
    "except Exception as e:\n",
    "    print(\":x: Connection failed:\", e)"
   ]
  },
  {
   "cell_type": "markdown",
   "metadata": {
    "id": "Hq1bTTMCuojj"
   },
   "source": [
    "## Webscrapping functions to get city information"
   ]
  },
  {
   "cell_type": "code",
   "execution_count": 16,
   "metadata": {
    "id": "Bf93TRUIyecp"
   },
   "outputs": [],
   "source": [
    "import pandas as pd\n",
    "from city_functions import CityPop, CityGeoInfo\n",
    "Cities_pop_df = CityPop(['Berlin', 'Hamburg', 'Munich'])\n",
    "Cities_Geo_df = CityGeoInfo(['Berlin', 'Hamburg', 'Munich'])"
   ]
  },
  {
   "cell_type": "markdown",
   "metadata": {
    "id": "Hq1bTTMCuojj"
   },
   "source": [
    "## Transfer city infos to data base"
   ]
  },
  {
   "cell_type": "code",
   "execution_count": 18,
   "metadata": {},
   "outputs": [
    {
     "data": {
      "text/plain": [
       "3"
      ]
     },
     "execution_count": 18,
     "metadata": {},
     "output_type": "execute_result"
    }
   ],
   "source": [
    "# transfer city names to sql data base\n",
    "Cities_df = Cities_pop_df['City'].to_frame()\n",
    "Cities_df.to_sql('city_names',\n",
    "                  if_exists='append',\n",
    "                  con=connection_string,\n",
    "                  index=False)"
   ]
  },
  {
   "cell_type": "code",
   "execution_count": 20,
   "metadata": {},
   "outputs": [],
   "source": [
    "# get city ids from sql data base\n",
    "cities_from_sql = pd.read_sql(\"city_names\", con=connection_string)"
   ]
  },
  {
   "cell_type": "code",
   "execution_count": 22,
   "metadata": {},
   "outputs": [
    {
     "data": {
      "text/plain": [
       "3"
      ]
     },
     "execution_count": 22,
     "metadata": {},
     "output_type": "execute_result"
    }
   ],
   "source": [
    "# transfer city population\n",
    "# merge with cities_from_sql to get city ids\n",
    "cities_pop_to_sql_df = Cities_pop_df.merge(cities_from_sql,\n",
    "                                   on = \"City\",\n",
    "                                   how=\"left\")\n",
    "\n",
    "# drop unnecessary columns\n",
    "cities_pop_to_sql_df = cities_pop_to_sql_df.drop(columns=[\"City\"])\n",
    "\n",
    "# transfer city poulation data to sql data base\n",
    "cities_pop_to_sql_df.to_sql('population',\n",
    "                  if_exists='append',\n",
    "                  con=connection_string,\n",
    "                  index=False)"
   ]
  },
  {
   "cell_type": "code",
   "execution_count": 30,
   "metadata": {},
   "outputs": [
    {
     "data": {
      "text/plain": [
       "3"
      ]
     },
     "execution_count": 30,
     "metadata": {},
     "output_type": "execute_result"
    }
   ],
   "source": [
    "# transfer city geo\n",
    "# merge with cities_from_sql to get city ids\n",
    "cities_geo_to_sql_df = Cities_Geo_df.merge(cities_from_sql,\n",
    "                                   on = \"City\",\n",
    "                                   how=\"left\")\n",
    "\n",
    "# drop unnecessary columns\n",
    "cities_geo_to_sql_df = cities_geo_to_sql_df.drop(columns=['City', 'Country'])\n",
    "\n",
    "# transfer city geo data to sql data base\n",
    "cities_geo_to_sql_df.to_sql('geo',\n",
    "                  if_exists='append',\n",
    "                  con=connection_string,\n",
    "                  index=False)"
   ]
  },
  {
   "cell_type": "code",
   "execution_count": 52,
   "metadata": {},
   "outputs": [
    {
     "data": {
      "text/plain": [
       "3"
      ]
     },
     "execution_count": 52,
     "metadata": {},
     "output_type": "execute_result"
    }
   ],
   "source": [
    "# transfer city airport icaos\n",
    "# merge with cities_from_sql to get city ids\n",
    "cities_icaos = pd.DataFrame({'City': ['Berlin', 'Hamburg', 'Munich'], 'icao': ['EDDB', 'EDDH', 'EDDM']})\n",
    "cities_icao_to_sql_df = cities_icaos.merge(cities_from_sql,\n",
    "                                   on = \"City\",\n",
    "                                   how=\"left\")\n",
    "\n",
    "# drop unnecessary columns\n",
    "cities_icao_to_sql_df = cities_icao_to_sql_df.drop(columns=[\"City\"])\n",
    "\n",
    "# transfer city poulation data to sql data base\n",
    "cities_icao_to_sql_df.to_sql('airport',\n",
    "                  if_exists='append',\n",
    "                  con=connection_string,\n",
    "                  index=False)"
   ]
  },
  {
   "cell_type": "code",
   "execution_count": 60,
   "metadata": {},
   "outputs": [
    {
     "data": {
      "text/plain": [
       "['EDDB', 'EDDH', 'EDDM']"
      ]
     },
     "execution_count": 60,
     "metadata": {},
     "output_type": "execute_result"
    }
   ],
   "source": [
    "icaos_df = pd.read_sql(\"airport\", con=connection_string)\n",
    "icaos_list = list(icaos_df['icao'])\n",
    "icaos_list"
   ]
  }
 ],
 "metadata": {
  "colab": {
   "provenance": []
  },
  "kernelspec": {
   "display_name": "Python [conda env:base] *",
   "language": "python",
   "name": "conda-base-py"
  },
  "language_info": {
   "codemirror_mode": {
    "name": "ipython",
    "version": 3
   },
   "file_extension": ".py",
   "mimetype": "text/x-python",
   "name": "python",
   "nbconvert_exporter": "python",
   "pygments_lexer": "ipython3",
   "version": "3.12.3"
  }
 },
 "nbformat": 4,
 "nbformat_minor": 4
}

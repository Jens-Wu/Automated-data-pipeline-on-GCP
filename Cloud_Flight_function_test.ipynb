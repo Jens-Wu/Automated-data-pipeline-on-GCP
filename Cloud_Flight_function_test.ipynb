{
 "cells": [
  {
   "cell_type": "markdown",
   "id": "a640eba0-9363-4dc9-a2f4-4b8afa03a305",
   "metadata": {},
   "source": [
    "# GCP Flight Function"
   ]
  },
  {
   "cell_type": "markdown",
   "id": "ebcce66a-1fc0-49f0-aeb4-113e4043615a",
   "metadata": {},
   "source": [
    "---\n",
    "## Install functions-framework 💾\n",
    "If you haven't already installed functions-framework, you will need to for testing the cloud function locally. Uncomment the code below, install, and then recomment the code - you only need to install it once."
   ]
  },
  {
   "cell_type": "code",
   "execution_count": 40,
   "id": "7527696c-6645-4cce-922c-b001f9485de6",
   "metadata": {},
   "outputs": [],
   "source": [
    "# !pip install functions-framework"
   ]
  },
  {
   "cell_type": "markdown",
   "id": "13e3ac26-2a3b-467a-9ead-14047a93af91",
   "metadata": {},
   "source": [
    "## Definition of Flight Function"
   ]
  },
  {
   "cell_type": "code",
   "execution_count": 28,
   "id": "102ed6af-af82-49ba-a8c1-180f415e9391",
   "metadata": {},
   "outputs": [],
   "source": [
    "import functions_framework\n",
    "import pandas as pd\n",
    "from sqlalchemy import create_engine, text\n",
    "from datetime import datetime, timedelta\n",
    "import requests\n",
    "from dotenv import load_dotenv\n",
    "import os\n",
    "\n",
    "@functions_framework.http\n",
    "def GetFlightInfo(request):\n",
    "    \n",
    "   # Connection setup\n",
    "    load_dotenv(\"variables.env\")\n",
    "    schema = os.getenv(\"schema\")\n",
    "    host = os.getenv(\"host\")\n",
    "    user = os.getenv(\"user\")\n",
    "    password = os.getenv(\"password\")\n",
    "    port = os.getenv(\"port\")\n",
    "    \n",
    "    # Create connection string\n",
    "    connection_string = f'mysql+pymysql://{user}:{password}@{host}:{port}/{schema}'\n",
    "\n",
    "    # get icaos from database\n",
    "    icao_df = pd.read_sql(\"airport\", con=connection_string)\n",
    "    icaos = list(icao_df['icao'])\n",
    "\n",
    "    # gather flight arrival information with RapidAPI    \n",
    "    RapidAPI_key = os.getenv(\"RapidAPI_key\")\n",
    "    \n",
    "    origin_cities = []\n",
    "    expected_arrival_times = []\n",
    "    flight_status = []\n",
    "    icao_list = []\n",
    "    flight_num = []\n",
    "    flight_info_df = pd.DataFrame({\"origin\":[] , \"expected_arrival_time\":[], \"flight_status\":[], \"icao\":[], \"flight_number\":[]})\n",
    "    tomorrow = datetime.now() + timedelta(days=1)\n",
    "    tomorrow_url_format = tomorrow.strftime('%Y-%m-%d')\n",
    "    times_list = [[\"00:00\", \"11:59\"],[\"12:00\", \"23:59\"]]\n",
    "\n",
    "    for icao in icaos:\n",
    "        \n",
    "        for times in times_list:\n",
    "            \n",
    "            url = f\"https://aerodatabox.p.rapidapi.com/flights/airports/icao/{icao}/{tomorrow_url_format}T{times[0]}/{tomorrow_url_format}T{times[1]}\"\n",
    "            \n",
    "            querystring = {\"withLeg\":\"true\",\"direction\":\"Arrival\",\"withCancelled\":\"true\",\"withCodeshared\":\"true\",\"withCargo\":\"false\",\"withPrivate\":\"false\",\"withLocation\":\"false\"}\n",
    "            \n",
    "            headers = {\"X-RapidAPI-Key\": RapidAPI_key, \"x-rapidapi-host\": \"aerodatabox.p.rapidapi.com\"}\n",
    "            \n",
    "            response = requests.get(url, headers=headers, params=querystring)\n",
    "            \n",
    "            for flight in response.json()['arrivals']:\n",
    "                origin_cities.append(flight['departure']['airport']['name'])\n",
    "                # Get arrival time (revised if available, otherwise scheduled)\n",
    "                arrival = flight.get('arrival', {})\n",
    "                revised_time = arrival.get('revisedTime', {})\n",
    "                scheduled_time = arrival.get('scheduledTime', {})\n",
    "            \n",
    "                # Either get revised['local'] or scheduled['local']\n",
    "                arrival_time = revised_time.get('local') or scheduled_time.get('local') or 'Unknown'\n",
    "                expected_arrival_times.append(arrival_time)\n",
    "                flight_status.append(flight['status'])\n",
    "                icao_list.append(icao)\n",
    "                flight_num.append(flight['number'])\n",
    "    \n",
    "    flight_info_df[\"origin\"] = origin_cities\n",
    "    flight_info_df[\"expected_arrival_time\"] = expected_arrival_times\n",
    "    flight_info_df[\"flight_status\"] = flight_status\n",
    "    flight_info_df[\"icao\"] = icao_list\n",
    "    flight_info_df[\"flight_number\"] = flight_num\n",
    "\n",
    "    SQL_Flight_df = pd.merge(flight_info_df, icao_df, on=\"icao\")\n",
    "    SQL_Flight_df['expected_arrival_time'] = pd.to_datetime(SQL_Flight_df['expected_arrival_time'])\n",
    "    SQL_Flight_df.drop_duplicates(inplace=True)\n",
    "    SQL_Flight_df.reset_index(drop=True, inplace=True)\n",
    "\n",
    "    # upload final df with flight info to mySQL\n",
    "    \n",
    "    SQL_Flight_df.to_sql('flight',\n",
    "                      if_exists='append',\n",
    "                      con=connection_string,\n",
    "                      index=False)\n",
    "    \n",
    "\n",
    "    return \"Data has been sent to the table\""
   ]
  },
  {
   "cell_type": "markdown",
   "id": "e0c5b158-874a-4ae9-9107-c4b1ed62ab1a",
   "metadata": {},
   "source": [
    "## Test Flight Function"
   ]
  },
  {
   "cell_type": "code",
   "execution_count": 30,
   "id": "2c60ef5d-893c-4862-b921-99b5f35fa86c",
   "metadata": {},
   "outputs": [
    {
     "name": "stdout",
     "output_type": "stream",
     "text": [
      "Data has been sent to the table\n"
     ]
    }
   ],
   "source": [
    "from flask import Request\n",
    "import json\n",
    "\n",
    "request_data = {}\n",
    "request = Request.from_values(data=json.dumps(request_data))\n",
    "\n",
    "# Call the function\n",
    "response = GetFlightInfo(request)\n",
    "print(response)"
   ]
  }
 ],
 "metadata": {
  "kernelspec": {
   "display_name": "Python [conda env:base] *",
   "language": "python",
   "name": "conda-base-py"
  },
  "language_info": {
   "codemirror_mode": {
    "name": "ipython",
    "version": 3
   },
   "file_extension": ".py",
   "mimetype": "text/x-python",
   "name": "python",
   "nbconvert_exporter": "python",
   "pygments_lexer": "ipython3",
   "version": "3.12.3"
  }
 },
 "nbformat": 4,
 "nbformat_minor": 5
}
